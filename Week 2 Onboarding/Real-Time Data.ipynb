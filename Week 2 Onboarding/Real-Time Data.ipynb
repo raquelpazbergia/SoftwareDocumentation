{
 "cells": [
  {
   "cell_type": "markdown",
   "metadata": {},
   "source": [
"## Real-Time Data Processing\n",
    "\n",
    "### Fetching New Data\n"
   ]
  },
  {
   "cell_type": "code",
   "execution_count": null,
   "metadata": {},
   "outputs": [],
   "source": [
    "    def get_recent_data(self):\n",
    "        data = self.board.get_board_data()\n",
    "        if data.shape[1] == 0:\n",
    "            # No new data\n",
    "            pass\n",
    "        else:\n",
    "            # Append new raw data to the raw_data_buffer\n",
    "            eeg_data = data[self.eeg_channels, :]\n",
    "            self.raw_data_buffer = np.hstack((self.raw_data_buffer, eeg_data))\n",
    "            # Process new data\n",
    "            # ..."
   ]
  },
  {
   "cell_type": "markdown",
   "metadata": {},
   "source": [
    "- **get_board_data()**: Fetches new data from the board and clears the internal buffer.\n",
    "- **eeg_data**: Extracts EEG channels from the fetched data.\n",
    "- **Appending to Buffer**: New data is added to the raw data buffer.\n",
    "\n",
    "### Channel-wise Processing\n",
    "\n",
    "#### Bandpass Filtering"
   ]
  },
  {
   "cell_type": "code",
   "execution_count": null,
   "metadata": {},
   "outputs": [],
   "source": [
    "            for i in range(len(self.eeg_channels)):\n",
    "                # It's important to process each channel separately (why?)\n",
    "                # Get the channel data\n",
    "                channel_data = self.raw_data_buffer[i, :].copy()\n",
    "\n",
    "                # It's important to use the whole buffer for filtering (why?)\n",
    "                # Bandpass filter\n",
    "                b, a = butter(2, [self.lowcut, self.highcut], btype='band', fs=self.sampling_rate)\n",
    "                channel_data = lfilter(b, a, channel_data)"
   ]
  },
  {
   "cell_type": "markdown",
   "metadata": {},
   "source": [
    "\n",
    "- **Processing Each Channel Separately**: We'll explain [why this is important](#processing-each-channel-separately).\n",
    "- **Using the Whole Buffer**: Filtering requires past data; we'll discuss [why we use the whole buffer](#using-the-whole-buffer-for-filtering).\n",
    "- **Butterworth Bandpass Filter**:\n",
    "  - **Order**: 2 (controls the steepness of the filter).\n",
    "  - **Cutoff Frequencies**: 1 Hz (lowcut) and 50 Hz (highcut).\n",
    "  - **b, a**: Filter coefficients.\n",
    "  - **lfilter**: Applies the filter to the data.\n",
    "\n",
    "#### Notch Filtering\n"
   ]
  },
  {
   "cell_type": "code",
   "execution_count": null,
   "metadata": {},
   "outputs": [],
   "source": [
    "                # Notch filter\n",
    "                b, a = iirnotch(self.notch, 30, fs=self.sampling_rate)\n",
    "                channel_data = lfilter(b, a, channel_data)"
   ]
  },
  {
   "cell_type": "markdown",
   "metadata": {},
   "source": [
    "\n",
    "- **Notch Filter**:\n",
    "  - **Center Frequency**: 60 Hz (common powerline interference in North America).\n",
    "  - **Quality Factor**: 30 (determines the bandwidth of the notch).\n",
    "  - **iirnotch**: Generates the notch filter coefficients.\n",
    "  - **lfilter**: Applies the notch filter to the data.\n",
    "\n",
    "#### Z-Score Normalization\n"
   ]
  },
  {
   "cell_type": "code",
   "execution_count": null,
   "metadata": {},
   "outputs": [],
   "source": [
    "                # Z-score\n",
    "                mean = np.mean(channel_data)\n",
    "                std = np.std(channel_data)\n",
    "                if std == 0:\n",
    "                    std = 1  # Prevent division by zero\n",
    "                channel_data = (channel_data - mean) / std\n",
    "                new_processed_data[i, :] = channel_data"
   ]
  },
  {
   "cell_type": "markdown",
   "metadata": {},
   "source": [
    "- **Mean and Standard Deviation**: Calculated for the channel data.\n",
    "- **Normalization**: Subtracts the mean and divides by the standard deviation.\n",
    "- **Handling Zero Standard Deviation**: Prevents division by zero by setting std to 1 if it's zero.\n",
    "\n",
    "### Buffer Management\n"
   ]
  },
  {
   "cell_type": "code",
   "execution_count": null,
   "metadata": {},
   "outputs": [],
   "source": [
    "            self.processed_data_buffer = np.hstack((self.processed_data_buffer, new_processed_data))\n",
    "\n",
    "            # Trim buffers to maintain only the last window_size_samples\n",
    "            max_buffer_size = self.window_size_samples * 2  # Keep some extra data\n",
    "            if self.raw_data_buffer.shape[1] > self.window_size_raw:\n",
    "                self.raw_data_buffer = self.raw_data_buffer[:, -self.window_size_raw:]\n",
    "            if self.processed_data_buffer.shape[1] > max_buffer_size:\n",
    "                self.processed_data_buffer = self.processed_data_buffer[:, -max_buffer_size:]\n",
    "\n",
    "        if self.processed_data_buffer.shape[1] >= self.window_size_samples:\n",
    "            recent_data = self.processed_data_buffer[:, -self.window_size_samples:]\n",
    "        else:\n",
    "            recent_data = self.processed_data_buffer\n",
    "\n",
    "        return recent_data"
   ]
  },
  {
   "cell_type": "markdown",
   "metadata": {},
   "source": [
    "\n",
    "- **Appending Processed Data**: Adds the newly processed data to the processed data buffer.\n",
    "- **Trimming Buffers**:\n",
    "  - **raw_data_buffer**: Trimmed to the last 10 seconds of data.\n",
    "  - **processed_data_buffer**: Trimmed to twice the window size (3 seconds) to have some extra data if needed.\n",
    "- **Returning Recent Data**:\n",
    "  - If enough data is available, returns the most recent 1.5 seconds.\n",
    "  - Otherwise, returns all available processed data.\n",
    "\n",
    "---\n",
    "\n",
